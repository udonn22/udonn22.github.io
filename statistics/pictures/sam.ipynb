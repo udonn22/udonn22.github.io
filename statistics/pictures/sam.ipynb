{
 "cells": [
  {
   "cell_type": "code",
   "execution_count": 3,
   "metadata": {},
   "outputs": [],
   "source": [
    "from PIL import Image\n",
    "import numpy as np\n",
    "\n",
    "add_size = 40\n",
    "\n",
    "# Repeating the same process for the newly uploaded image\n",
    "# Load the newly uploaded image\n",
    "new_img = Image.open(\"logo-white.png\")\n",
    "\n",
    "# Calculate padding\n",
    "new_width, new_height = new_img.size\n",
    "new_left = new_right = new_width * add_size*0.01\n",
    "new_top = new_bottom = new_height * add_size*0.01\n",
    "\n",
    "# Add padding around the image\n",
    "final_new_width = new_width + new_left + new_right\n",
    "final_new_height = new_height + new_top + new_bottom\n",
    "result_new = Image.new(new_img.mode, (int(final_new_width), int(final_new_height)), \"black\")\n",
    "result_new.paste(new_img, (int(new_left), int(new_top)))\n",
    "\n",
    "# convert result_new to numpy\n",
    "new_img = np.array(result_new)\n",
    "new_img[..., -1] = 255\n",
    "\n",
    "\n",
    "save_img = Image.fromarray(new_img)\n",
    "\n",
    "# Save the image\n",
    "save_img.save(f\"logo-white_{add_size}.png\")"
   ]
  },
  {
   "cell_type": "code",
   "execution_count": 9,
   "metadata": {},
   "outputs": [],
   "source": [
    "\n"
   ]
  }
 ],
 "metadata": {
  "kernelspec": {
   "display_name": "base",
   "language": "python",
   "name": "python3"
  },
  "language_info": {
   "codemirror_mode": {
    "name": "ipython",
    "version": 3
   },
   "file_extension": ".py",
   "mimetype": "text/x-python",
   "name": "python",
   "nbconvert_exporter": "python",
   "pygments_lexer": "ipython3",
   "version": "3.11.3"
  }
 },
 "nbformat": 4,
 "nbformat_minor": 2
}
