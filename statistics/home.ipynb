{
 "cells": [
  {
   "cell_type": "markdown",
   "metadata": {},
   "source": [
    "---\n",
    "format:\n",
    "  html:\n",
    "    code-fold: true\n",
    "    code-summary: \"【クリックでPythonコードを表示】\"\n",
    "jupyter: python3\n",
    "---"
   ]
  },
  {
   "cell_type": "markdown",
   "metadata": {},
   "source": [
    "<link rel=\"stylesheet\" type=\"text/css\" href=\"style.css\">\n",
    "<header>\n",
    "<dev class=\"home\"><b><u>HOME</u></b></dev>\n",
    "<a class=\"order\" href=\"https://coconala.com/users/3496338\"><b><u>ご依頼とご相談</u></b></a>\n",
    "</header>\n",
    "<h2>このサイトについて</h2>  \n",
    "このサイトでは、よくある統計学の分析手法についてPythonを使った例とともに解説しています。統計学は、データを分析し、現象を理解するための重要なツールです。あなたが統計学を学び、データを分析する際に役立つ情報を提供することを目指しています。  \n",
    "著者への依頼については、<a href=\"https://coconala.com/users/3496338\"><u>このリンク</u></a>からご覧ください。\n",
    "\n",
    "<h2>統計の基本的概念</h2>  \n",
    "・<a href=\"https://udonn22.github.io/statistics/meanvar\">平均と分散</a><br>\n",
    "・<a href=\"https://udonn22.github.io/statistics/normaldist\">正規分布と標準正規分布</a><br>\n",
    "・<a href=\"https://udonn22.github.io/statistics/chusinkyokugen\">中心極限定理</a><br>\n",
    "・<a href=\"https://udonn22.github.io/statistics/chi2dist\">カイ二乗分布</a><br>\n",
    "・<a href=\"https://udonn22.github.io/statistics/tdist\">t分布</a><br>\n",
    "・<a href=\"https://udonn22.github.io/statistics/fdist\">F分布</a><br>\n",
    "・<a href=\"https://udonn22.github.io/statistics/chi2test\">カイ二乗分布を使った検定</a><br>\n",
    "・<a>t検定</a>(作成中)<br>\n",
    "・<a>F検定</a>(作成中)<br>\n",
    "・<a>t分布、カイ二乗分布、F分布の関係</a>(作成中)<br>\n",
    "\n",
    "<!-- \n",
    "<a href=\"https://udonn22.github.io/statistics/chi2test\">カイ二乗検定</a>(作成中)<br>\n",
    "<a href=\"https://udonn22.github.io/statistics/ttest\">t検定</a>(作成中)<br>\n",
    "<a href=\"https://udonn22.github.io/statistics/ftest\">F検定</a>(作成中)<br>\n",
    "<a href=\"https://udonn22.github.io/statistics/estimation\">点推定と区間推定と検定</a>(作成中)<br> -->\n",
    "\n",
    "<h2>異常検知の手法</h2>\n",
    "<p>作成中</p>\n",
    "<!-- <a href=\"https://udonn22.github.io/statistics/3sigma\">3σ法</a>\n",
    "<a href=\"https://udonn22.github.io/statistics/Grubbs\">グラブス検定</a> -->\n",
    "\n",
    "\n"
   ]
  }
 ],
 "metadata": {
  "kernelspec": {
   "display_name": "base",
   "language": "python",
   "name": "python3"
  },
  "language_info": {
   "codemirror_mode": {
    "name": "ipython",
    "version": 3
   },
   "file_extension": ".py",
   "mimetype": "text/x-python",
   "name": "python",
   "nbconvert_exporter": "python",
   "pygments_lexer": "ipython3",
   "version": "3.11.3"
  }
 },
 "nbformat": 4,
 "nbformat_minor": 2
}
