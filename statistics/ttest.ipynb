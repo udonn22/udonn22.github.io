{
 "cells": [
  {
   "cell_type": "markdown",
   "metadata": {},
   "source": [
    "---\n",
    "format:\n",
    "  html:\n",
    "    code-fold: true\n",
    "    code-summary: \"【クリックでPythonコードを表示】\"\n",
    "jupyter: python3\n",
    "---"
   ]
  },
  {
   "cell_type": "markdown",
   "metadata": {},
   "source": [
    "<link rel=\"stylesheet\" type=\"text/css\" href=\"style.css\">\n",
    "<header>\n",
    "<dev class=\"home\"><b><u>HOME</u></b></dev>\n",
    "<a class=\"order\" href=\"https://coconala.com/users/3496338\"><b><u>ご依頼(ココナラ)</u></b></a>\n",
    "<a href=\"https://x.gd/EChkP\">\n",
    "<img class=\"logo\" src=\"pictures\\logo-white_40_40x40.png\" alt=\"連絡\">\n",
    "</a>\n",
    "</header>\n",
    "\n",
    "<h1>t検体について</h1>\n",
    "<h2>t検定ってなに?</h2>\n",
    "\n",
    "<div class=\"speech-container\">\n",
    "<img class=\"child-pic\" src=\"pictures\\shibainu_2_1.png\" alt=\"子供の顔画像\">\n",
    "<p class=\"child-txt\">博士、t検定って何ですか？</p>\n",
    "</div>\n",
    "\n",
    "<div class=\"speech-container\">\n",
    "<div class=\"hakase-txt\">t検定は、2つのグループ間で平均値が統計的に有意に異なるかどうかを調べるための方法だよ。例えば、あるクラスと別のクラスのテストの平均点を比べて、その差が偶然によるものではないかを確かめるのに使うんだ。</div>\n",
    "<img class=\"hakase-pic\" src=\"pictures\\shibainu_4_2.png\">\n",
    "</div>\n",
    "\n",
    "<div class=\"speech-container\">\n",
    "<img class=\"child-pic\" src=\"pictures\\shibainu_2_1.png\" alt=\"子供の顔画像\">\n",
    "<p class=\"child-txt\">どうやって確かめるんですか？</p>\n",
    "</div>\n",
    "\n",
    "<div class=\"speech-container\">\n",
    "<div class=\"hakase-txt\">まず、各グループの平均値、標準偏差、そして各グループのサンプルサイズを使って計算するんだ。t検定には式があって、この式を使ってt値を計算するよ。</div>\n",
    "<img class=\"hakase-pic\" src=\"pictures\\shibainu_4_2.png\">\n",
    "</div>\n"
   ]
  },
  {
   "cell_type": "markdown",
   "metadata": {},
   "source": [
    "<link rel=\"stylesheet\" type=\"text/css\" href=\"style.css\">\n",
    "<div class=\"definition-container\">\n",
    "<strong>t値の式</strong>  \n",
    "$$\n",
    "t = \\frac{\\bar{X}_1 - \\bar{X}_2}{\\sqrt{\\frac{s^2}{n_1} + \\frac{s^2}{n_2}}}\n",
    "$$\n",
    "<ul>\n",
    "<li>$\\bar{X}_1$, $\\bar{X}_2$: それぞれのグループの平均値</li>\n",
    "<li>$s^2$: 両グループの分散のプールされた推定値</li>\n",
    "<li>$n_1$, $n_2$: それぞれのグループのサンプルサイズ</li>\n",
    "</ul>\n",
    "</div>\n",
    "\n",
    "<div class=\"speech-container\">\n",
    "<div class=\"hakase-txt\">分散のプールされた推定値とは、2つのグループのサンプルからそのグループ全体の分散を推定した値で、以下の式で書けるよ。</div>\n",
    "<img class=\"hakase-pic\" src=\"pictures\\shibainu_4_2.png\">\n",
    "</div>\n",
    "\n",
    "<div class=\"definition-container\">\n",
    "<strong>分散のプールされた推定値の式</strong>\n",
    "$$\n",
    "s^2 = \\frac{(n_1 - 1)s_1^2 + (n_2 - 1)s_2^2}{n_1 + n_2 - 2}\n",
    "$$\n",
    "<ul>\n",
    "<li>$n_1$, $n_2$: それぞれのグループのサンプルサイズ</li>\n",
    "<li>$s_1^2$, $s_2^2$: それぞれのグループの分散</li>\n",
    "</ul>\n",
    "</div>\n",
    "\n",
    "<link rel=\"stylesheet\" type=\"text/css\" href=\"style.css\">\n",
    "<div class=\"speech-container\">\n",
    "<img class=\"child-pic\" src=\"pictures\\shibainu_2_1.png\" alt=\"子供の顔画像\">\n",
    "<p class=\"child-txt\">このt値って何を教えてくれるんですか？</p>\n",
    "</div>\n",
    "\n",
    "<div class=\"speech-container\">\n",
    "<div class=\"hakase-txt\">t値が大きければ大きいほど、2つのグループ間の平均値の差が大きいことを意味するよ。そして、このt値を使ってp値を計算し、そのp値がある閾値（よく0.05とされる）より小さい場合、グループ間に統計的に有意な差があると判断されるんだ。</div>\n",
    "<img class=\"hakase-pic\" src=\"pictures\\shibainu_4_2.png\">\n",
    "</div>\n",
    "\n",
    "<div class=\"speech-container\">\n",
    "<img class=\"child-pic\" src=\"pictures\\shibainu_2_1.png\" alt=\"子供の顔画像\">\n",
    "<p class=\"child-txt\">なるほど。でも、これを実際に計算するのは難しそうですね。</p>\n",
    "</div>\n",
    "\n",
    "<div class=\"speech-container\">\n",
    "<div class=\"hakase-txt\">実は、Pythonを使えば、簡単に計算できるんだ。ここで簡単な例をもとにPythonのコードを見てみよう。</div>\n",
    "<img class=\"hakase-pic\" src=\"pictures\\shibainu_4_2.png\">\n",
    "</div>"
   ]
  },
  {
   "cell_type": "markdown",
   "metadata": {},
   "source": [
    "<link rel=\"stylesheet\" type=\"text/css\" href=\"style.css\">\n",
    "<h1>t検定をPythonで実演</h1>\n",
    "<div class=\"speech-container\">\n",
    "<div class=\"hakase-txt\">まずは2つのグループの分だけPythonで乱数を作るよ。この2つのグループで平均に有意な差があるかをt検定を使って調べてみよう。</div>\n",
    "<img class=\"hakase-pic\" src=\"pictures\\shibainu_4_2.png\">\n",
    "</div>\n",
    "\n",
    "<div class=\"definition-container\">\n",
    "グループ1:平均100、標準偏差10の正規分布に従う乱数30個  \n",
    "グループ2:平均105、標準偏差10の正規分布に従う乱数30個</div>"
   ]
  },
  {
   "cell_type": "code",
   "execution_count": 1,
   "metadata": {},
   "outputs": [
    {
     "data": {
      "image/png": "[encoded data removed]",
      "text/plain": [
       "<Figure size 600x400 with 1 Axes>"
      ]
     },
     "metadata": {},
     "output_type": "display_data"
    }
   ],
   "source": [
    "from scipy.stats import ttest_ind\n",
    "import numpy as np\n",
    "import matplotlib.pyplot as plt\n",
    "import japanize_matplotlib\n",
    "np.random.seed(7)\n",
    "\n",
    "# 2つのグループのデータを仮定\n",
    "group1 = np.random.normal(100, 10, size=30)  # 平均100、標準偏差10のデータ30個\n",
    "group2 = np.random.normal(105, 10, size=30)  # 平均105、標準偏差10のデータ30個\n",
    "\n",
    "\n",
    "# 2つのグループを重ねたヒストグラムを描画（group1を緑色、group2を青色で表示、binsを揃える）\n",
    "plt.figure(figsize=(6, 4))\n",
    "bins = np.histogram(np.hstack((group1, group2)), bins=15)[1] # 共通のbinsを設定\n",
    "plt.hist(group1, bins=bins, alpha=0.5, color='green', label='グループ1')\n",
    "plt.hist(group2, bins=bins, alpha=0.5, color='blue', label='グループ2')\n",
    "plt.legend(loc='upper right')\n",
    "plt.xlabel('値')\n",
    "plt.ylabel('頻度')\n",
    "plt.title('グループ1とグループ2のヒストグラム')\n",
    "plt.show()\n"
   ]
  },
  {
   "cell_type": "markdown",
   "metadata": {},
   "source": [
    "<link rel=\"stylesheet\" type=\"text/css\" href=\"style.css\">\n",
    "<div class=\"speech-container\">\n",
    "<img class=\"child-pic\" src=\"pictures\\shibainu_2_1.png\" alt=\"子供の顔画像\">\n",
    "<p class=\"child-txt\">分布をヒストグラムで見てみると、グループ2の方が大きい値が出ているから、平均も高そうだね。</p>\n",
    "</div>\n",
    "\n",
    "<div class=\"speech-container\">\n",
    "<div class=\"hakase-txt\">Pythonでt検定をした結果が以下だよ。</div>\n",
    "<img class=\"hakase-pic\" src=\"pictures\\shibainu_4_2.png\">\n",
    "</div>"
   ]
  },
  {
   "cell_type": "code",
   "execution_count": 2,
   "metadata": {},
   "outputs": [
    {
     "name": "stdout",
     "output_type": "stream",
     "text": [
      "[ t検定の結果 ]\n",
      "t統計量: 2.04\n",
      "p値: 0.046\n"
     ]
    }
   ],
   "source": [
    "# t検定を実行\n",
    "t_stat, p_value = ttest_ind(group2, group1)\n",
    "\n",
    "print(\"[ t検定の結果 ]\")\n",
    "print(f\"t統計量: {t_stat:.2f}\")\n",
    "print(f\"p値: {p_value:.3f}\")"
   ]
  },
  {
   "cell_type": "markdown",
   "metadata": {},
   "source": [
    "<link rel=\"stylesheet\" type=\"text/css\" href=\"style.css\">\n",
    "<div class=\"speech-container\">\n",
    "<img class=\"child-pic\" src=\"pictures\\shibainu_2_1.png\" alt=\"子供の顔画像\">\n",
    "<p class=\"child-txt\">おー、そうすると、このp値を見ればいいんですね！</p>\n",
    "</div>\n",
    "\n",
    "<div class=\"speech-container\">\n",
    "<div class=\"hakase-txt\">その通り！p値が0.05以下なら、「2つのグループ間には統計的に有意な差がある」と結論づけることができるよ。</div>\n",
    "<img class=\"hakase-pic\" src=\"pictures\\shibainu_4_2.png\">\n",
    "</div>\n",
    "\n",
    "<div class=\"speech-container\">\n",
    "<img class=\"child-pic\" src=\"pictures\\shibainu_2_1.png\" alt=\"子供の顔画像\">\n",
    "<p class=\"child-txt\">ということは、今回のp値は0.046だから「統計的に有意」っていうことだね! Pythonだと本当に簡単に求められるんだね!</p>\n",
    "</div>"
   ]
  },
  {
   "cell_type": "markdown",
   "metadata": {},
   "source": [
    "<link rel=\"stylesheet\" type=\"text/css\" href=\"style.css\">\n",
    "<h1>t検定に関する補足</h1>\n",
    "<div class=\"speech-container\">\n",
    "<div class=\"hakase-txt\">今回のように2つのグループの平均を比較するときにt検定はとても役に立つんだ。</div>\n",
    "<img class=\"hakase-pic\" src=\"pictures\\shibainu_4_2.png\">\n",
    "</div>\n",
    "\n",
    "<div class=\"speech-container\">\n",
    "<div class=\"hakase-txt\">でも、実は2つのグループの分散が違っていると今回の式ではうまく求められないから気を付けてね。この問題を、ベーレンス・フィッシャー問題っていうよ。</div>\n",
    "<img class=\"hakase-pic\" src=\"pictures\\shibainu_4_2.png\">\n",
    "</div>\n",
    "\n",
    "<div class=\"speech-container\">\n",
    "<img class=\"child-pic\" src=\"pictures\\shibainu_2_1.png\" alt=\"子供の顔画像\">\n",
    "<p class=\"child-txt\">2つのグループが違っていたらどうしたらいいの?t検定で平均が同じかを調べられないの?</p>\n",
    "</div>\n",
    "\n",
    "<div class=\"speech-container\">\n",
    "<div class=\"hakase-txt\">その場合は、ウェルチの信頼区間で近似的に求めらるよ。とても難しい式だから、「2つのグループの分散が違う場合は、t検定の代わりに、ウェルチの信頼区間で近似的に求める!」って覚えておいたらいいよ。</div>\n",
    "<img class=\"hakase-pic\" src=\"pictures\\shibainu_4_2.png\">\n",
    "</div>\n",
    "\n",
    "<div class=\"speech-container\">\n",
    "<img class=\"child-pic\" src=\"pictures\\shibainu_2_1.png\" alt=\"子供の顔画像\">\n",
    "<p class=\"child-txt\">分かったよ博士!今日はt検定について詳しく教えてくれてありがとう!</p>\n",
    "</div>"
   ]
  },
  {
   "cell_type": "code",
   "execution_count": null,
   "metadata": {},
   "outputs": [],
   "source": []
  },
  {
   "cell_type": "markdown",
   "metadata": {},
   "source": [
    "<iframe src=\"writer_page.html\" width=100% height=350></iframe>"
   ]
  }
 ],
 "metadata": {
  "kernelspec": {
   "display_name": "base",
   "language": "python",
   "name": "python3"
  },
  "language_info": {
   "codemirror_mode": {
    "name": "ipython",
    "version": 3
   },
   "file_extension": ".py",
   "mimetype": "text/x-python",
   "name": "python",
   "nbconvert_exporter": "python",
   "pygments_lexer": "ipython3",
   "version": "3.11.3"
  }
 },
 "nbformat": 4,
 "nbformat_minor": 2
}
