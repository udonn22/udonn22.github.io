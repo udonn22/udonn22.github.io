{
 "cells": [
  {
   "cell_type": "markdown",
   "metadata": {},
   "source": [
    "---\n",
    "format:\n",
    "  html:\n",
    "    code-fold: true\n",
    "    code-summary: \"【クリックでPythonコードを表示】\"\n",
    "jupyter: python3\n",
    "---"
   ]
  },
  {
   "cell_type": "markdown",
   "metadata": {},
   "source": [
    "<link rel=\"stylesheet\" type=\"text/css\" href=\"style.css\">\n",
    "<header>\n",
    "<dev class=\"home\"><b><u>HOME</u></b></dev>\n",
    "<a class=\"order\" href=\"https://coconala.com/users/3496338\"><b><u>ご依頼とご相談</u></b></a>\n",
    "</header>"
   ]
  },
  {
   "cell_type": "markdown",
   "metadata": {},
   "source": [
    "<link rel=\"stylesheet\" type=\"text/css\" href=\"style.css\">\n",
    "\n",
    "<h1>平均と分散: 統計の基本を理解する</h1>\n",
    "\n",
    "<div class=\"speech-container\">\n",
    "<img class=\"child-pic\" src=\"pictures\\shibainu_2_1.png\" alt=\"子供の顔画像\">\n",
    "<p class=\"child-txt\">博士!今日は平均と分積について教えてください!</p>\n",
    "</div>\n",
    "\n",
    "<div class=\"speech-container\">\n",
    "<div class=\"hakase-txt\">平均と分積は、統計の基本で、とても重要なものなんだ。大量の情報を整理して全体を把握して、重要な傾向やパターンを見つけ出すことができるよ。</div>\n",
    "<img class=\"hakase-pic\" src=\"pictures\\shibainu_3_3.png\">\n",
    "</div>\n",
    "\n",
    "<div class=\"speech-container\">\n",
    "<div class=\"hakase-txt\">平均はデータの中心を、分散はデータがどれだけ広がっているかを教えてくれるんだ!</div>\n",
    "<img class=\"hakase-pic\" src=\"pictures\\shibainu_4_2.png\">\n",
    "</div>\n",
    "\n",
    "<div class=\"speech-container\">\n",
    "<img class=\"child-pic\" src=\"pictures\\shibainu_2_2.png\" alt=\"子供の顔画像\">\n",
    "<p class=\"child-txt\">なるほど! 平均と分散で、中心と広がりを知ることができるんだ!データの全体を知るにはもってこいだね!</p>\n",
    "</div>\n",
    "\n",
    "<div class=\"speech-container\">\n",
    "<div class=\"hakase-txt\">平均は、全てのデータを足してその数で割ったもの。分散は、それぞれのデータが平均からどれだけ離れているかの平均から求められるよ! 式はこうなっているよ。</div>\n",
    "<img class=\"hakase-pic\" src=\"pictures\\shibainu_4_3.png\">\n",
    "</div>"
   ]
  },
  {
   "cell_type": "markdown",
   "metadata": {},
   "source": [
    "<link rel=\"stylesheet\" type=\"text/css\" href=\"style.css\">\n",
    "<br>\n",
    "<div class=\"definition-container\">\n",
    "$$平均: \\bar{x} = \\frac{1}{N} \\sum_{i=1}^{N} x_i$$\n",
    "$$分散: \\sigma^2 = \\frac{1}{N} \\sum_{i=1}^{N} (x_i - \\bar{x})^2$$\n",
    "ここで、$\\bar{x}$ は平均値、$N$ はデータの総数、$x_i$ は各データ点、$\\sum$ は合計を示します。  \n",
    "</div>"
   ]
  },
  {
   "cell_type": "markdown",
   "metadata": {},
   "source": [
    "<link rel=\"stylesheet\" type=\"text/css\" href=\"style.css\">\n",
    "<h1>平均と分散の例</h1>\n",
    "<div class=\"speech-container\">\n",
    "<img class=\"child-pic\" src=\"pictures\\shibainu_2_1.png\" alt=\"子供の顔画像\">\n",
    "<p class=\"child-txt\">それを使って、実際にデータを見てみることはできるの？</p>\n",
    "</div>\n",
    "\n",
    "<div class=\"speech-container\">\n",
    "<div class=\"hakase-txt\">もちろんだよ。例えば、2つのグループAとBの人の身長を見てみよう。</div>\n",
    "<img class=\"hakase-pic\" src=\"pictures\\shibainu_4_2.png\">\n",
    "</div>"
   ]
  },
  {
   "cell_type": "code",
   "execution_count": 9,
   "metadata": {},
   "outputs": [
    {
     "name": "stdout",
     "output_type": "stream",
     "text": [
      "==== 身長データの計算結果 ====\n",
      "グループA - 平均身長: 170.0 cm, 分散: 18.0 cm^2\n",
      "グループB - 平均身長: 165.0 cm, 分散: 50.0 cm^2\n"
     ]
    }
   ],
   "source": [
    "import numpy as np\n",
    "\n",
    "# グループAとBの身長データ\n",
    "heights_a = np.array([164, 167, 170, 173, 176])\n",
    "heights_b = np.array([155, 160, 165, 170, 175])\n",
    "\n",
    "# 平均と分散を計算\n",
    "average_a = np.mean(heights_a)\n",
    "variance_a = np.var(heights_a)\n",
    "average_b = np.mean(heights_b)\n",
    "variance_b = np.var(heights_b)\n",
    "\n",
    "# 結果を表示\n",
    "print(\"==== 身長データの計算結果 ====\")\n",
    "print(f\"グループA - 平均身長: {average_a} cm, 分散: {variance_a} cm^2\")\n",
    "print(f\"グループB - 平均身長: {average_b} cm, 分散: {variance_b} cm^2\")\n"
   ]
  },
  {
   "cell_type": "markdown",
   "metadata": {},
   "source": [
    "<link rel=\"stylesheet\" type=\"text/css\" href=\"style.css\">\n",
    "<div class=\"speech-container\">\n",
    "<img class=\"child-pic\" src=\"pictures\\shibainu_3_1.png\" alt=\"子供の顔画像\">\n",
    "<p class=\"child-txt\">グループAの方が平均は大きいけども分散はグループBの方が大きいね!もともとの5つの数字だと比較しにくいけど、平均と分散を知れば比較しやすいね!</p>\n",
    "</div>"
   ]
  },
  {
   "cell_type": "markdown",
   "metadata": {},
   "source": [
    "<link rel=\"stylesheet\" type=\"text/css\" href=\"style.css\">\n",
    "<h1>平均と分散の重要性</h1>\n",
    "<div class=\"speech-container\">\n",
    "<img class=\"child-pic\" src=\"pictures\\shibainu_2_2.png\" alt=\"子供の顔画像\">\n",
    "<p class=\"child-txt\">なぜ平均と分散を一緒に知ることが大切なの？平均だけじゃダメなの?</p>\n",
    "</div>\n",
    "\n",
    "<div class=\"speech-container\">\n",
    "<div class=\"hakase-txt\">平均だけでは、データがどのように分布しているか全てはわからないんだ。例えば、クラスに背が高い人と低い人が半分ずついたら、平均では普通の身長に見えるかもしれない。でも、分散を見れば、その差が大きいことがわかる。つまり、平均と分散を知ることで、データの全体像がよりよく理解できるんだよ。</div>\n",
    "<img class=\"hakase-pic\" src=\"pictures\\shibainu_4_3.png\">\n",
    "</div>\n",
    "\n",
    "<div class=\"speech-container\">\n",
    "<img class=\"child-pic\" src=\"pictures\\shibainu_3_1.png\" alt=\"子供の顔画像\">\n",
    "<p class=\"child-txt\">なるほど、だから分散も大事なんだね！</p>\n",
    "</div>\n",
    "\n",
    "<div class=\"speech-container\">\n",
    "<div class=\"hakase-txt\">その通りだよ。平均と分散は、データを理解するための最初のステップなんだ。</div>\n",
    "<img class=\"hakase-pic\" src=\"pictures\\shibainu_4_2.png\">\n",
    "</div>\n",
    "\n",
    "<h1>まとめ</h1>\n",
    "平均と分散は、データセットの基本的な特性を把握するために非常に重要です。これらの統計的概念を理解し、適切に活用することで、より情報に基づいた意思決定が可能になります。\n",
    "\n",
    "このブログ記事が、平均と分散の基本を理解し、統計がどのように私たちの日常生活や意思決定プロセスに役立つかを学ぶ一助となることを願っています。"
   ]
  },
  {
   "cell_type": "markdown",
   "metadata": {},
   "source": [
    "<iframe src=\"writer_page.html\" width=100% height=350></iframe>"
   ]
  },
  {
   "cell_type": "markdown",
   "metadata": {},
   "source": []
  }
 ],
 "metadata": {
  "kernelspec": {
   "display_name": "base",
   "language": "python",
   "name": "python3"
  },
  "language_info": {
   "codemirror_mode": {
    "name": "ipython",
    "version": 3
   },
   "file_extension": ".py",
   "mimetype": "text/x-python",
   "name": "python",
   "nbconvert_exporter": "python",
   "pygments_lexer": "ipython3",
   "version": "3.11.3"
  }
 },
 "nbformat": 4,
 "nbformat_minor": 2
}
