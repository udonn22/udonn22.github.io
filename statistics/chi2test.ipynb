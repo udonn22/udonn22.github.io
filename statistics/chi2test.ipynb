{
 "cells": [
  {
   "cell_type": "markdown",
   "metadata": {},
   "source": [
    "---\n",
    "format:\n",
    "  html:\n",
    "    code-fold: true\n",
    "    code-summary: \"【クリックでPythonコードを表示】\"\n",
    "jupyter: python3\n",
    "---"
   ]
  },
  {
   "cell_type": "markdown",
   "metadata": {},
   "source": [
    "<link rel=\"stylesheet\" type=\"text/css\" href=\"style.css\">\n",
    "<header>\n",
    "<dev class=\"home\"><b><u>HOME</u></b></dev>\n",
    "<a class=\"order\" href=\"https://coconala.com/users/3496338\"><b><u>ご依頼とご相談</u></b></a>\n",
    "</header>\n",
    "\n",
    "<h1>一様性のカイ二乗検定分布について</h1>\n",
    "<h2>一様性のカイ二乗検定分布ってなに?</h2>\n",
    "\n",
    "<div class=\"speech-container\">\n",
    "<img class=\"child-pic\" src=\"pictures\\shibainu_2_1.png\" alt=\"子供の顔画像\">\n",
    "<p class=\"child-txt\">博士、カイ二乗分布って面白そうだけど、いまいちどういうときに役立つのかわからないから、教えて？</p>\n",
    "</div>\n",
    "\n",
    "<div class=\"speech-container\">\n",
    "<div class=\"hakase-txt\">もちろんだよ!カイ二乗検定が役に立つものの例に、一様性のカイ二乗検定があるよ。観測されたデータが予想している分布や期待値からどれだけ離れているか(適合していないか)を測る統計的手法だよ。</div>\n",
    "<img class=\"hakase-pic\" src=\"pictures\\shibainu_4_2.png\">\n",
    "</div>\n",
    "\n",
    "<div class=\"speech-container\">\n",
    "<img class=\"child-pic\" src=\"pictures\\shibainu_1_2.png\" alt=\"子供の顔画像\">\n",
    "<p class=\"child-txt\">それはどういうものなの？</p>\n",
    "</div>\n",
    "\n",
    "<div class=\"speech-container\">\n",
    "<div class=\"hakase-txt\">例えば、ある学校で生徒たちが好きなスポーツについてアンケートを取ったとしよう。サッカー、野球、テニスの3つから選べるとするね。もし全員が完全にランダムに選ぶなら、各スポーツを選ぶ生徒の数はほぼ同じになるはずだよね。</div>\n",
    "<img class=\"hakase-pic\" src=\"pictures\\shibainu_3_3.png\">\n",
    "</div>\n",
    "\n",
    "<div class=\"speech-container\">\n",
    "<img class=\"child-pic\" src=\"pictures\\shibainu_1_1.png\" alt=\"子供の顔画像\">\n",
    "<p class=\"child-txt\">うん、そうなるね。</p>\n",
    "</div>\n",
    "\n",
    "<div class=\"speech-container\">\n",
    "<div class=\"hakase-txt\">でも、実際にアンケートを取った結果、サッカーを選んだ生徒がとても多くて、テニスを選んだ生徒が少なかったとしたら、それは偶然の結果とは考えにくいよね。</div>\n",
    "<img class=\"hakase-pic\" src=\"pictures\\shibainu_4_3.png\">\n",
    "</div>\n",
    "\n",
    "<div class=\"speech-container\">\n",
    "<div class=\"hakase-txt\">ここで一様性のカイ二乗検定を使うと、この差が偶然によるものなのか、それとも何か他の理由があるのかを調べることができるんだ。</div>\n",
    "<img class=\"hakase-pic\" src=\"pictures\\shibainu_4_2.png\">\n",
    "</div>\n",
    "\n",
    "<div class=\"speech-container\">\n",
    "<img class=\"child-pic\" src=\"pictures\\shibainu_2_1.png\" alt=\"子供の顔画像\">\n",
    "<p class=\"child-txt\">なるほど、でもどうやって調べるの？</p>\n",
    "</div>\n"
   ]
  },
  {
   "cell_type": "markdown",
   "metadata": {},
   "source": [
    "<link rel=\"stylesheet\" type=\"text/css\" href=\"style.css\">\n",
    "<h1>どうやってカイ二乗検定をするの?</h1>\n",
    "\n",
    "<div class=\"speech-container\">\n",
    "<div class=\"hakase-txt\">まず、仮説をもとに各スポーツを選ぶ生徒の数の「期待値」を計算するよ。もし全員がランダムに選んでいるなら、各スポーツの期待値は全体の人数の1/3だね。</div>\n",
    "<img class=\"hakase-pic\" src=\"pictures\\shibainu_3_3.png\">\n",
    "</div>\n",
    "\n",
    "<div class=\"speech-container\">\n",
    "<div class=\"hakase-txt\">次に、実際の観測値($O_i$)と期待値($E_i$)から以下を計算するよ。</div>\n",
    "<img class=\"hakase-pic\" src=\"pictures\\shibainu_4_2.png\">\n",
    "</div>\n",
    "\n",
    "<div class=\"definition-container\">\n",
    "$$\n",
    "\\chi^2 = \\sum_i^n \\frac{(O_i - E_i)^2}{E_i}\n",
    "$$\n",
    "ただし、$O_i$は観測値、$E_i$は期待値を表す。\n",
    "</div>\n",
    "\n",
    "<div class=\"speech-container\">\n",
    "<div class=\"hakase-txt\">このとき、$\\chi^2$が$n-1$の自由度に従うカイ二乗分布$\\chi^2(n-1)$に従うと仮定して統計的に有意かどうかを調べるんだ。</div>\n",
    "<img class=\"hakase-pic\" src=\"pictures\\shibainu_3_3.png\">\n",
    "</div>\n",
    "\n",
    "<div class=\"speech-container\">\n",
    "<img class=\"child-pic\" src=\"pictures\\shibainu_3_1.png\" alt=\"子供の顔画像\">\n",
    "<p class=\"child-txt\">へえ、だからカイ二乗検定で、好きなスポーツに何か特別な傾向があるかどうかを調べることができるんだね！</p>\n",
    "</div>\n",
    "\n",
    "<div class=\"speech-container\">\n",
    "<div class=\"hakase-txt\">正解！そして、この手法は医学、心理学、市場調査など、さまざまな分野で使われているんだ。データが期待していたパターンからどれだけ離れているかを理解することで、重要な洞察を得ることができるんだよ。</div>\n",
    "<img class=\"hakase-pic\" src=\"pictures\\shibainu_4_2.png\">\n",
    "</div>\n"
   ]
  },
  {
   "cell_type": "markdown",
   "metadata": {},
   "source": [
    "<link rel=\"stylesheet\" type=\"text/css\" href=\"style.css\">\n",
    "<h1>カイ二乗検定の例</h1>\n",
    "\n",
    "<div class=\"speech-container\">\n",
    "<div class=\"hakase-txt\">それでは実際の例でみてみよう。今回は300人の生徒の好きなスポーツを例に考えるよ。今回のアンケートの結果は以下だとするね。</div>\n",
    "<img class=\"hakase-pic\" src=\"pictures\\shibainu_3_3.png\">\n",
    "</div>"
   ]
  },
  {
   "cell_type": "code",
   "execution_count": 41,
   "metadata": {},
   "outputs": [
    {
     "data": {
      "image/png": "[encoded data removed]",
      "text/plain": [
       "<Figure size 600x400 with 1 Axes>"
      ]
     },
     "metadata": {},
     "output_type": "display_data"
    }
   ],
   "source": [
    "import japanize_matplotlib\n",
    "import matplotlib.pyplot as plt\n",
    "\n",
    "# アンケート結果\n",
    "plt.figure(figsize=(6, 4))\n",
    "num_favorit_sports = [120, 85, 95] # サッカー, 野球、テニスの順番\n",
    "\n",
    "# 棒グラフで表示\n",
    "plt.bar(range(3), num_favorit_sports)\n",
    "plt.xticks(range(3), ['サッカー', '野球', 'テニス'])\n",
    "plt.ylabel('人数')\n",
    "plt.grid()\n",
    "plt.show()"
   ]
  },
  {
   "cell_type": "markdown",
   "metadata": {},
   "source": [
    "<link rel=\"stylesheet\" type=\"text/css\" href=\"style.css\">\n",
    "<div class=\"speech-container\">\n",
    "<img class=\"child-pic\" src=\"pictures\\shibainu_2_1.png\" alt=\"子供の顔画像\">\n",
    "<p class=\"child-txt\">サッカーが多くてテニスが少ないね。これがたまたまなのかを有意性で表すんだね。</p>\n",
    "</div>\n",
    "\n",
    "<div class=\"speech-container\">\n",
    "<div class=\"hakase-txt\">そうだよ。実際に計算した結果が以下だよ。</div>\n",
    "<img class=\"hakase-pic\" src=\"pictures\\shibainu_3_3.png\">\n",
    "</div>\n"
   ]
  },
  {
   "cell_type": "code",
   "execution_count": 44,
   "metadata": {},
   "outputs": [
    {
     "name": "stdout",
     "output_type": "stream",
     "text": [
      "Chi^2値: 6.5\n",
      "p値: 0.039\n"
     ]
    }
   ],
   "source": [
    "from scipy.stats import chisquare\n",
    "\n",
    "# 期待値\n",
    "expected_values = [100, 100, 100]\n",
    "\n",
    "# 一様性のカイ二乗検定を実行\n",
    "chi2, p = chisquare(num_favorit_sports, f_exp=expected_values)\n",
    "\n",
    "print(f\"Chi^2値: {chi2}\")\n",
    "print(f\"p値: {p:.3f}\")"
   ]
  },
  {
   "cell_type": "markdown",
   "metadata": {},
   "source": [
    "<link rel=\"stylesheet\" type=\"text/css\" href=\"style.css\">\n",
    "<div class=\"speech-container\">\n",
    "<img class=\"child-pic\" src=\"pictures\\shibainu_2_2.png\" alt=\"子供の顔画像\">\n",
    "<p class=\"child-txt\">このp値っていうのは何?</p>\n",
    "</div>\n",
    "\n",
    "<div class=\"speech-container\">\n",
    "<div class=\"hakase-txt\">このp値が有意性のことだよ。今回の結果だと、3.9%のたまたまで起きるくらいの偶然っていうのがわかるね。</div>\n",
    "<img class=\"hakase-pic\" src=\"pictures\\shibainu_3_3.png\">\n",
    "</div>\n",
    "\n",
    "<div class=\"speech-container\">\n",
    "<div class=\"hakase-txt\">実際にカイ二乗分布を書くと、p値は以下の図の色を塗った部分になるよ。</div>\n",
    "<img class=\"hakase-pic\" src=\"pictures\\shibainu_4_2.png\">\n",
    "</div>"
   ]
  },
  {
   "cell_type": "code",
   "execution_count": 40,
   "metadata": {},
   "outputs": [
    {
     "data": {
      "image/png": "[encoded data removed]",
      "text/plain": [
       "<Figure size 600x400 with 1 Axes>"
      ]
     },
     "metadata": {},
     "output_type": "display_data"
    },
    {
     "name": "stdout",
     "output_type": "stream",
     "text": [
      "カイ二乗統計量 = 6.5 のときのp値 = 0.039\n"
     ]
    }
   ],
   "source": [
    "import numpy as np\n",
    "import scipy.stats as stats\n",
    "import matplotlib.pyplot as plt\n",
    "\n",
    "# カイ二乗統計量と自由度\n",
    "chi_square_statistic = 6.5\n",
    "df = 2\n",
    "\n",
    "# カイ二乗分布のp値を計算\n",
    "p_value = 1 - stats.chi2.cdf(chi_square_statistic, df)\n",
    "\n",
    "# カイ二乗分布を図示\n",
    "x = np.linspace(0, 20, 1000)\n",
    "y = stats.chi2.pdf(x, df)\n",
    "\n",
    "plt.figure(figsize=(6, 4))\n",
    "plt.plot(x, y, 'b-', label='カイ二乗分布 (df=2)')\n",
    "plt.fill_between(x, 0, y, where=(x > chi_square_statistic), color='red', alpha=0.5)\n",
    "plt.axvline(x=chi_square_statistic, color='red', linestyle='--', label=f'カイ二乗統計量 = {chi_square_statistic}')\n",
    "plt.annotate('この面積がp値', xy=(chi_square_statistic*1.02, stats.chi2.pdf(chi_square_statistic, df)/3), xytext=(chi_square_statistic + 3, 0.1),\n",
    "             arrowprops=dict(facecolor='black', shrink=0.05),\n",
    "             fontsize=12, color='black')\n",
    "plt.xlabel('カイ二乗統計量')\n",
    "plt.ylabel('確率密度')\n",
    "plt.ylim(0, 0.5)\n",
    "plt.xlim(0,13)\n",
    "plt.title('カイ二乗分布とp値の図示')\n",
    "plt.legend()\n",
    "plt.show()\n",
    "\n",
    "print(f\"カイ二乗統計量 = {chi_square_statistic} のときのp値 = {p_value:.3f}\")\n"
   ]
  },
  {
   "cell_type": "markdown",
   "metadata": {},
   "source": [
    "<link rel=\"stylesheet\" type=\"text/css\" href=\"style.css\">\n",
    "<div class=\"speech-container\">\n",
    "<img class=\"child-pic\" src=\"pictures\\shibainu_2_1.png\" alt=\"子供の顔画像\">\n",
    "<p class=\"child-txt\">なるほど、3.9%だったらめったに起きない確率だね。</p>\n",
    "</div>\n",
    "\n",
    "<div class=\"speech-container\">\n",
    "<div class=\"hakase-txt\">そうだね。統計学ではp値が5%以下だと有意と言いことが多くて、初めの仮説(どのスポーツを選ぶ確率も等しい)を否定することが多いかな。</div>\n",
    "<img class=\"hakase-pic\" src=\"pictures\\shibainu_3_3.png\">\n",
    "</div>\n",
    "\n",
    "<div class=\"speech-container\">\n",
    "<img class=\"child-pic\" src=\"pictures\\shibainu_2_1.png\" alt=\"子供の顔画像\">\n",
    "<p class=\"child-txt\">じゃあ今回は、統計学的に有意ってことだね!</p>\n",
    "</div>\n",
    "\n",
    "<div class=\"speech-container\">\n",
    "<div class=\"hakase-txt\">そういうこと!でも\"5%\"というのには統計学的な根拠はないから気を付けてね。</div>\n",
    "<img class=\"hakase-pic\" src=\"pictures\\shibainu_3_3.png\">\n",
    "</div>"
   ]
  },
  {
   "cell_type": "markdown",
   "metadata": {},
   "source": [
    "<link rel=\"stylesheet\" type=\"text/css\" href=\"style.css\">\n",
    "<h1>カイ二乗検定の統計学の問題の例</h1>\n",
    "\n",
    "<div class=\"speech-container\">\n",
    "<div class=\"hakase-txt\">今回のように、\"仮説がどれくらいたまたまなのか\"を調べて、統計的に有意かそうでないかを調べることを検定というんだ。より統計学的な文章に書き換えるとこうなるよ。</div>\n",
    "<img class=\"hakase-pic\" src=\"pictures\\shibainu_3_3.png\">\n",
    "</div>\n",
    "\n",
    "\n",
    "\n",
    "<div class=\"question-container\">\n",
    "問題: ある学校で行われたアンケートでは、300人の生徒たちが1番好きなスポーツ（サッカー、野球、テニスのいずれか）について回答しました。生徒たちはどのスポーツも等しい確率で選ぶであるという仮定のもと、各スポーツが等しい割合、すなわち1/3の確率で選ばれるかどうかを統計的に検定します。優位水準は5%とします。\n",
    "\n",
    "帰無仮説 (H0): 生徒たちがどのスポーツも等しい確率で選ぶ。\n",
    "\n",
    "対立仮説 (H1): 生徒たちは等しくない確率でスポーツを選ぶ。\n",
    "</div>\n",
    "\n",
    "\n",
    "<div class=\"speech-container\">\n",
    "<img class=\"child-pic\" src=\"pictures\\shibainu_2_1.png\" alt=\"子供の顔画像\">\n",
    "<p class=\"child-txt\">この帰無仮説っていうのは何?</p>\n",
    "</div>\n",
    "\n",
    "<div class=\"speech-container\">\n",
    "<div class=\"hakase-txt\">帰無仮説というのは、どのくらいたまたまなのかを調べる仮設のことで、p値が十分小さい場合に否定(棄却)するための仮説なんだ。棄却されれば無に帰るから帰無仮説と覚えておこう。</div>\n",
    "<img class=\"hakase-pic\" src=\"pictures\\shibainu_3_3.png\">\n",
    "</div>\n",
    "\n",
    "<div class=\"speech-container\">\n",
    "<div class=\"hakase-txt\">対立仮説は帰無仮説の反対の仮説だね。文字通り、帰無仮説と対立しているよ。</div>\n",
    "<img class=\"hakase-pic\" src=\"pictures\\shibainu_4_2.png\">\n",
    "</div>\n",
    "\n",
    "<div class=\"speech-container\">\n",
    "<img class=\"child-pic\" src=\"pictures\\shibainu_3_1.png\" alt=\"子供の顔画像\">\n",
    "<p class=\"child-txt\">解き方はさっき言ったようにp値を求めて優位水準の5%と比較すればいいんだね!</p>\n",
    "</div>\n",
    "\n",
    "<div class=\"speech-container\">\n",
    "<div class=\"hakase-txt\">そうだよ!さずがだね!</div>\n",
    "<img class=\"hakase-pic\" src=\"pictures\\shibainu_4_2.png\">\n",
    "</div>\n",
    "\n",
    "<div class=\"speech-container\">\n",
    "<div class=\"hakase-txt\">今回は観測されたデータが予想している分布や期待値からどれだけ離れているかを測るためにカイ二乗分布を使ったよ。統計学にはほかにも平均を比較するためのt検定や、分散を比較するためのF検定があるんだ。</div>\n",
    "<img class=\"hakase-pic\" src=\"pictures\\shibainu_3_3.png\">\n",
    "</div>\n",
    "\n",
    "<div class=\"speech-container\">\n",
    "<img class=\"child-pic\" src=\"pictures\\shibainu_4_1.png\" alt=\"子供の顔画像\">\n",
    "<p class=\"child-txt\">面白そうだね!もっと勉強して検定を使いこなせるようになるよ!</p>\n",
    "</div>"
   ]
  },
  {
   "cell_type": "markdown",
   "metadata": {},
   "source": [
    "<iframe src=\"writer_page.html\" width=100% height=350></iframe>"
   ]
  }
 ],
 "metadata": {
  "kernelspec": {
   "display_name": "base",
   "language": "python",
   "name": "python3"
  },
  "language_info": {
   "codemirror_mode": {
    "name": "ipython",
    "version": 3
   },
   "file_extension": ".py",
   "mimetype": "text/x-python",
   "name": "python",
   "nbconvert_exporter": "python",
   "pygments_lexer": "ipython3",
   "version": "3.11.3"
  }
 },
 "nbformat": 4,
 "nbformat_minor": 2
}
