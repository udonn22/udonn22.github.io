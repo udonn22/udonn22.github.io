{
 "cells": [
  {
   "cell_type": "markdown",
   "metadata": {},
   "source": [
    "<link rel=\"stylesheet\" type=\"text/css\" href=\"style.css\">\n",
    "<header>\n",
    "<dev class=\"home\"><b><u>HOME</u></b></dev>\n",
    "<a class=\"order\" href=\"https://coconala.com/users/3496338\"><b><u>ご依頼とご相談</u></b></a>\n",
    "</header>\n",
    "<h2>このサイトについて</h2>  \n",
    "このサイトでは、よくある統計学の分析手法についてPythonを使った例とともに解説しています。統計学は、データを分析し、現象を理解するための重要なツールです。あなたが統計学を学び、データを分析する際に役立つ情報を提供することを目指しています。  \n",
    "著者については、<a href=\"https://coconala.com/users/3496338\"><u>このリンク</u></a>からご覧ください。\n",
    "\n",
    "<h2>トピック</h2>  \n",
    "\n",
    "<a href=\"https://udonn22.github.io/home/chusin-kyokugen\">中心極限定理について</a>  \n",
    "<a href=\"https://udonn22.github.io/sample2\">サンプル</a>  \n",
    "<a href=\"https://udonn22.github.io\">ベース</a>\n",
    "\n"
   ]
  },
  {
   "cell_type": "markdown",
   "metadata": {},
   "source": []
  }
 ],
 "metadata": {
  "kernelspec": {
   "display_name": "base",
   "language": "python",
   "name": "python3"
  },
  "language_info": {
   "codemirror_mode": {
    "name": "ipython",
    "version": 3
   },
   "file_extension": ".py",
   "mimetype": "text/x-python",
   "name": "python",
   "nbconvert_exporter": "python",
   "pygments_lexer": "ipython3",
   "version": "3.11.3"
  }
 },
 "nbformat": 4,
 "nbformat_minor": 2
}
